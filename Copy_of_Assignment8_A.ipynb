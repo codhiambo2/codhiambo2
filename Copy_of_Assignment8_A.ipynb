{
  "nbformat": 4,
  "nbformat_minor": 0,
  "metadata": {
    "colab": {
      "name": "Copy of Assignment8_A.ipynb",
      "provenance": [],
      "collapsed_sections": [],
      "authorship_tag": "ABX9TyO+Gimp3GVQvaGeGYCko4FX",
      "include_colab_link": true
    },
    "kernelspec": {
      "display_name": "Python 3",
      "name": "python3"
    },
    "language_info": {
      "name": "python"
    }
  },
  "cells": [
    {
      "cell_type": "markdown",
      "metadata": {
        "id": "view-in-github",
        "colab_type": "text"
      },
      "source": [
        "<a href=\"https://colab.research.google.com/github/codhiambo2/codhiambo2/blob/main/Copy_of_Assignment8_A.ipynb\" target=\"_parent\"><img src=\"https://colab.research.google.com/assets/colab-badge.svg\" alt=\"Open In Colab\"/></a>"
      ]
    },
    {
      "cell_type": "markdown",
      "metadata": {
        "id": "X2AZOl4uboqI"
      },
      "source": [
        "In this exercise, we'll classify cryptopunk attributes. You might have heard of the recent NFT (non-fungible token) craze. Cryptopunks are example NFT assets that one can buy. As of this writing, the cheapest Cryptopunk is worth over $40,000 dollars. The punks each have attributes, like a mustache or hairstyle. We'll train a conv net to classify punks by attributes. First we'll need to download all of the cryptopunks, which are in a giant single image file. Then separate them into the individual punks. (There's probably an easier way to do this, but this wasn't that hard.) Next we will download a database of attributes. You will then build a tensorflow model to predict the attributes given the images."
      ]
    },
    {
      "cell_type": "markdown",
      "metadata": {
        "id": "sa65YERT0H4W"
      },
      "source": [
        "The assignment, is to build and validate a convolutional neural network for determining whether a punk has an earring or not."
      ]
    },
    {
      "cell_type": "markdown",
      "metadata": {
        "id": "dT3m2ZgzP1R2"
      },
      "source": [
        "Importing tensorFlow and other libraries"
      ]
    },
    {
      "cell_type": "code",
      "metadata": {
        "id": "zV3NSoFwQDHo"
      },
      "source": [
        "import matplotlib.pyplot as plt\n",
        "import numpy as np\n",
        "import pandas as pd\n",
        "import tensorflow as tf\n",
        "import urllib.request\n",
        "import PIL\n",
        "import pathlib\n",
        "from sklearn.metrics import accuracy_score, precision_score, recall_score\n",
        "from sklearn.model_selection import train_test_split\n",
        "from tensorflow.keras import layers, losses, models\n"
      ],
      "execution_count": null,
      "outputs": []
    },
    {
      "cell_type": "markdown",
      "metadata": {
        "id": "64GZBBWJaUON"
      },
      "source": [
        "Importing images of cryptopunk"
      ]
    },
    {
      "cell_type": "code",
      "metadata": {
        "id": "vLJqF3Rdackq"
      },
      "source": [
        "imgURL = \"https://raw.githubusercontent.com/larvalabs/cryptopunks/master/punks.png\"\n",
        "urllib.request.urlretrieve(imgURL, \"cryptoPunksAll.jpg\")"
      ],
      "execution_count": null,
      "outputs": []
    },
    {
      "cell_type": "code",
      "metadata": {
        "id": "ttDBpmaB6Jpi"
      },
      "source": [
        "imgCryp=PIL.Image.open(\"cryptoPunksAll.jpg\").convert(\"RGB\")"
      ],
      "execution_count": null,
      "outputs": []
    },
    {
      "cell_type": "code",
      "metadata": {
        "id": "NwgwQ4I-BCbs"
      },
      "source": [
        "imgCryp.size"
      ],
      "execution_count": null,
      "outputs": []
    },
    {
      "cell_type": "markdown",
      "metadata": {
        "id": "oeTcYKMxe9tn"
      },
      "source": [
        "checking some array"
      ]
    },
    {
      "cell_type": "code",
      "metadata": {
        "id": "Gc1noFXGeejj"
      },
      "source": [
        "imgArray = np.asarray(imgCryp)\n",
        "plt.imshow(imgArray[0 : 23, 0 : 23, :])\n",
        "plt.xticks([])\n",
        "plt.yticks([])"
      ],
      "execution_count": null,
      "outputs": []
    },
    {
      "cell_type": "code",
      "metadata": {
        "id": "6K5EiygQhTHG"
      },
      "source": [
        "#Plot out the first 25 punks\n",
        "plt.figure(figsize=(10,10))\n",
        "for i in range(25): \n",
        "  plt.subplot(5,5,i+1)\n",
        "  plt.xticks([])\n",
        "  plt.yticks([])\n",
        "  a, b = (24 * i), (24 * (i + 1))\n",
        "  plt.imshow(imgArray[0 : 24, a : b, :])"
      ],
      "execution_count": null,
      "outputs": []
    },
    {
      "cell_type": "code",
      "metadata": {
        "id": "7eubq0t4pzEW"
      },
      "source": [
        "finalArray = np.empty((10000,24,24, 3))\n",
        "for i in range(100):\n",
        "  for j in range(100):\n",
        "    a, b = 24 * i, 24 * (i + 1) \n",
        "    c, d = 24 * j, 24 * (j + 1)\n",
        "    idx = j + i * (100)\n",
        "    finalArray[idx,:,:,:] = imgArray[a:b,c:d,:]\n",
        "      \n",
        "## double check with above\n",
        "## apparently the .astype('uint8') is needed to display correctly now\n",
        "plt.figure(figsize=(10,10))\n",
        "for i in range(25):\n",
        "  plt.subplot(5,5,i+1)\n",
        "  plt.xticks([])\n",
        "  plt.yticks([])\n",
        "  plt.imshow(finalArray[i,:,:,:].astype('uint8'))"
      ],
      "execution_count": null,
      "outputs": []
    },
    {
      "cell_type": "code",
      "metadata": {
        "id": "XEiVaO2BvJfm"
      },
      "source": [
        "finalArray.shape"
      ],
      "execution_count": null,
      "outputs": []
    },
    {
      "cell_type": "code",
      "metadata": {
        "id": "LizbmRtiSMEh"
      },
      "source": [
        "##splitting the shapes\n",
        "n=finalArray.shape[0] \n",
        "trainFraction=0.8\n",
        "sample=np.random.uniform(size=n)<trainFraction\n",
        "x_train=finalArray[sample,:,:,:]/255\n",
        "x_test=finalArray[~sample,:,:,:]/255\n",
        "[x_train.shape, x_test.shape]\n"
      ],
      "execution_count": null,
      "outputs": []
    },
    {
      "cell_type": "code",
      "metadata": {
        "id": "O4jdy42Ja6Et"
      },
      "source": [
        "##Building the model\n",
        "autoED=tf.keras.Sequential()\n",
        "autoED.add(layers.InputLayer(input_shape=(24,24,3)))\n",
        "autoED.add(layers.Flatten())\n",
        "autoED.add(layers.Dense(64, activation=\"relu\"))\n",
        "autoED.add(layers.Dense(1728, activation=\"sigmoid\"))\n",
        "autoED.add(layers.Reshape(target_shape=(24,24,3)))\n",
        "autoED.compile(optimizer='adam',loss=losses.MeanSquaredError())\n",
        "autoED.fit(x_train, x_train,\n",
        "           epochs=10,\n",
        "           shuffle=True,\n",
        "           validation_data = (x_test, x_test))\n",
        "autoED.summary()"
      ],
      "execution_count": null,
      "outputs": []
    },
    {
      "cell_type": "code",
      "metadata": {
        "id": "QYg_vViRkPxE"
      },
      "source": [
        "###Example of testing the model\n",
        "test=autoED(x_test[0:25,:,:,:])\n",
        "plt.figure(figsize=(10,10))\n",
        "for i in range(25):\n",
        "  plt.subplot(5,5,i+1)\n",
        "  plt.xticks([])\n",
        "  plt.yticks([])\n",
        "  plt.imshow(test[i,:,:,:])"
      ],
      "execution_count": null,
      "outputs": []
    },
    {
      "cell_type": "code",
      "metadata": {
        "id": "_DpIg_3tmzk5"
      },
      "source": [
        "##train\n",
        "history=autoED.fit(x_train, x_train,\n",
        "           epochs=10,\n",
        "           shuffle=True,\n",
        "           validation_data = (x_test, x_test))\n"
      ],
      "execution_count": null,
      "outputs": []
    },
    {
      "cell_type": "code",
      "metadata": {
        "id": "rwBCfkVjpTEw"
      },
      "source": [
        "#Now apply the trained function\n",
        "###Example of testing the model\n",
        "test=autoED(x_test[0:25,:,:,:])\n",
        "plt.figure(figsize=(10,10))\n",
        "for i in range(25):\n",
        "  plt.subplot(5,5,i+1)\n",
        "  plt.xticks([])\n",
        "  plt.yticks([])\n",
        "  plt.imshow(test[i,:,:,:])"
      ],
      "execution_count": null,
      "outputs": []
    },
    {
      "cell_type": "code",
      "metadata": {
        "id": "GSp5KH0_czzQ"
      },
      "source": [
        "#  additional libraries that may be required\n",
        "import pathlib\n",
        "from sklearn.model_selection import train_test_split\n",
        "import tensorflow as tf\n",
        "from tensorflow import keras\n",
        "from tensorflow.keras import layers\n",
        "from tensorflow.keras.models import Sequential\n",
        "\n"
      ],
      "execution_count": null,
      "outputs": []
    },
    {
      "cell_type": "code",
      "metadata": {
        "colab": {
          "background_save": true
        },
        "id": "43JqLT3Qe5P4",
        "outputId": "42ec7193-0f59-4bd4-bf50-5ed4d16d86f2"
      },
      "source": [
        "# additional code \n",
        "x_train, x_test, y_train, y_test = train_test_split(finalArray, datamCryp, test_size=0.20, train_size=0.20)\n",
        "x_train, x_test=x_train/255, x_test/255\n",
        "\n",
        "batch_size =len(x_train)\n",
        "print(finalArray.shape)\n",
        "print(x_train.shape)\n",
        "print(x_test.shape)\n",
        "print(x_train.shape, x_test.shape, y_train.shape,y_test.shape )"
      ],
      "execution_count": null,
      "outputs": [
        {
          "output_type": "error",
          "ename": "NameError",
          "evalue": "ignored",
          "traceback": [
            "\u001b[0;31m---------------------------------------------------------------------------\u001b[0m",
            "\u001b[0;31mNameError\u001b[0m                                 Traceback (most recent call last)",
            "\u001b[0;32m<ipython-input-18-d68294cd4a55>\u001b[0m in \u001b[0;36m<module>\u001b[0;34m()\u001b[0m\n\u001b[1;32m      1\u001b[0m \u001b[0;31m# additional code\u001b[0m\u001b[0;34m\u001b[0m\u001b[0;34m\u001b[0m\u001b[0;34m\u001b[0m\u001b[0m\n\u001b[0;32m----> 2\u001b[0;31m \u001b[0mx_train\u001b[0m\u001b[0;34m,\u001b[0m \u001b[0mx_test\u001b[0m\u001b[0;34m,\u001b[0m \u001b[0my_train\u001b[0m\u001b[0;34m,\u001b[0m \u001b[0my_test\u001b[0m \u001b[0;34m=\u001b[0m \u001b[0mtrain_test_split\u001b[0m\u001b[0;34m(\u001b[0m\u001b[0mfinalArray\u001b[0m\u001b[0;34m,\u001b[0m \u001b[0mdatamCryp\u001b[0m\u001b[0;34m,\u001b[0m \u001b[0mtest_size\u001b[0m\u001b[0;34m=\u001b[0m\u001b[0;36m0.20\u001b[0m\u001b[0;34m,\u001b[0m \u001b[0mtrain_size\u001b[0m\u001b[0;34m=\u001b[0m\u001b[0;36m0.20\u001b[0m\u001b[0;34m)\u001b[0m\u001b[0;34m\u001b[0m\u001b[0;34m\u001b[0m\u001b[0m\n\u001b[0m\u001b[1;32m      3\u001b[0m \u001b[0mx_train\u001b[0m\u001b[0;34m,\u001b[0m \u001b[0mx_test\u001b[0m\u001b[0;34m=\u001b[0m\u001b[0mx_train\u001b[0m\u001b[0;34m/\u001b[0m\u001b[0;36m255\u001b[0m\u001b[0;34m,\u001b[0m \u001b[0mx_test\u001b[0m\u001b[0;34m/\u001b[0m\u001b[0;36m255\u001b[0m\u001b[0;34m\u001b[0m\u001b[0;34m\u001b[0m\u001b[0m\n\u001b[1;32m      4\u001b[0m \u001b[0;34m\u001b[0m\u001b[0m\n\u001b[1;32m      5\u001b[0m \u001b[0mbatch_size\u001b[0m \u001b[0;34m=\u001b[0m\u001b[0mlen\u001b[0m\u001b[0;34m(\u001b[0m\u001b[0mx_train\u001b[0m\u001b[0;34m)\u001b[0m\u001b[0;34m\u001b[0m\u001b[0;34m\u001b[0m\u001b[0m\n",
            "\u001b[0;31mNameError\u001b[0m: name 'datamCryp' is not defined"
          ]
        }
      ]
    },
    {
      "cell_type": "code",
      "metadata": {
        "id": "xqCf5LThe5ES"
      },
      "source": [
        "# model fit\n",
        "model = models.Sequential()\n",
        "model.add(layers.Conv2D(24, (3, 3), activation='relu', input_shape=(24, 24, 3)))\n",
        "model.add(layers.MaxPooling2D((2, 2)))\n",
        "model.add(layers.Conv2D(48, (3, 3), activation='relu'))\n",
        "model.add(layers.MaxPooling2D((2, 2)))\n",
        "model.add(layers.Conv2D(48, (3, 3), activation='relu'))\n",
        "model.add(layers.Flatten())\n",
        "model.add(layers.Dense(48, activation='relu'))\n",
        "model.add(layers.Dense(10))\n",
        "model.compile(optimizer='adam',loss=losses.MeanSquaredError())\n",
        "\n"
      ],
      "execution_count": null,
      "outputs": []
    },
    {
      "cell_type": "code",
      "metadata": {
        "id": "YKamXbeAjJgi"
      },
      "source": [
        "# model fit\n",
        "model.fit(x_train, y_train.earring, epochs=10)\n"
      ],
      "execution_count": null,
      "outputs": []
    },
    {
      "cell_type": "code",
      "metadata": {
        "colab": {
          "base_uri": "https://localhost:8080/"
        },
        "id": "Ts-tL0mHe44x",
        "outputId": "1cf7ce01-c51f-4de9-e02c-e05636c49719"
      },
      "source": [
        "# Evaluate fit\n",
        "model.evaluate(x_test, y_test.earring, verbose=2) \n"
      ],
      "execution_count": null,
      "outputs": [
        {
          "output_type": "stream",
          "text": [
            "63/63 - 0s - loss: 0.0424\n"
          ],
          "name": "stdout"
        },
        {
          "output_type": "execute_result",
          "data": {
            "text/plain": [
              "0.04242406412959099"
            ]
          },
          "metadata": {
            "tags": []
          },
          "execution_count": 94
        }
      ]
    },
    {
      "cell_type": "code",
      "metadata": {
        "id": "MjWbArpae4rZ"
      },
      "source": [
        "test_loss, test_accuracy=model.evaluate(x_test, y_test.earring, verbose=2)\n",
        "print('Test loss: {0:.2}'.format(test_loss))\n",
        "print('Test accuracy: {0:.2}'.format(test_accuracy*100.))"
      ],
      "execution_count": null,
      "outputs": []
    }
  ]
}